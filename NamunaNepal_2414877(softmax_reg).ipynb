{
  "nbformat": 4,
  "nbformat_minor": 0,
  "metadata": {
    "colab": {
      "provenance": []
    },
    "kernelspec": {
      "name": "python3",
      "display_name": "Python 3"
    },
    "language_info": {
      "name": "python"
    }
  },
  "cells": [
    {
      "cell_type": "markdown",
      "source": [
        "Softmax Regression:\n"
      ],
      "metadata": {
        "id": "-jNeU03tpRwz"
      }
    },
    {
      "cell_type": "code",
      "source": [
        "import pandas as pd\n",
        "import numpy as np\n",
        "\n",
        "# Load Titanic dataset\n",
        "data = pd.read_csv('Titanic-Dataset.csv')\n",
        "\n",
        "# Prepare features (X) and target labels (y)\n",
        "X = data[['Pclass', 'Sex', 'Age', 'SibSp', 'Parch', 'Fare']]\n",
        "y = data['Survived']\n",
        "\n",
        "# Handle missing values\n",
        "X['Age'].fillna(X['Age'].median(), inplace=True)\n",
        "X['Fare'].fillna(X['Fare'].median(), inplace=True)\n",
        "\n",
        "# Encode 'Sex' column\n",
        "X['Sex'] = X['Sex'].map({'male': 0, 'female': 1})\n",
        "\n",
        "# Convert to numpy arrays\n",
        "X = X.values\n",
        "y = y.values\n"
      ],
      "metadata": {
        "colab": {
          "base_uri": "https://localhost:8080/"
        },
        "collapsed": true,
        "id": "LOa9TXGYpu_M",
        "outputId": "68917a36-3e1d-40f2-9d97-8609b3dde52e"
      },
      "execution_count": 41,
      "outputs": [
        {
          "output_type": "stream",
          "name": "stderr",
          "text": [
            "<ipython-input-41-f4b6cd15a3b5>:12: FutureWarning: A value is trying to be set on a copy of a DataFrame or Series through chained assignment using an inplace method.\n",
            "The behavior will change in pandas 3.0. This inplace method will never work because the intermediate object on which we are setting values always behaves as a copy.\n",
            "\n",
            "For example, when doing 'df[col].method(value, inplace=True)', try using 'df.method({col: value}, inplace=True)' or df[col] = df[col].method(value) instead, to perform the operation inplace on the original object.\n",
            "\n",
            "\n",
            "  X['Age'].fillna(X['Age'].median(), inplace=True)\n",
            "<ipython-input-41-f4b6cd15a3b5>:12: SettingWithCopyWarning: \n",
            "A value is trying to be set on a copy of a slice from a DataFrame\n",
            "\n",
            "See the caveats in the documentation: https://pandas.pydata.org/pandas-docs/stable/user_guide/indexing.html#returning-a-view-versus-a-copy\n",
            "  X['Age'].fillna(X['Age'].median(), inplace=True)\n",
            "<ipython-input-41-f4b6cd15a3b5>:13: FutureWarning: A value is trying to be set on a copy of a DataFrame or Series through chained assignment using an inplace method.\n",
            "The behavior will change in pandas 3.0. This inplace method will never work because the intermediate object on which we are setting values always behaves as a copy.\n",
            "\n",
            "For example, when doing 'df[col].method(value, inplace=True)', try using 'df.method({col: value}, inplace=True)' or df[col] = df[col].method(value) instead, to perform the operation inplace on the original object.\n",
            "\n",
            "\n",
            "  X['Fare'].fillna(X['Fare'].median(), inplace=True)\n",
            "<ipython-input-41-f4b6cd15a3b5>:13: SettingWithCopyWarning: \n",
            "A value is trying to be set on a copy of a slice from a DataFrame\n",
            "\n",
            "See the caveats in the documentation: https://pandas.pydata.org/pandas-docs/stable/user_guide/indexing.html#returning-a-view-versus-a-copy\n",
            "  X['Fare'].fillna(X['Fare'].median(), inplace=True)\n",
            "<ipython-input-41-f4b6cd15a3b5>:16: SettingWithCopyWarning: \n",
            "A value is trying to be set on a copy of a slice from a DataFrame.\n",
            "Try using .loc[row_indexer,col_indexer] = value instead\n",
            "\n",
            "See the caveats in the documentation: https://pandas.pydata.org/pandas-docs/stable/user_guide/indexing.html#returning-a-view-versus-a-copy\n",
            "  X['Sex'] = X['Sex'].map({'male': 0, 'female': 1})\n"
          ]
        }
      ]
    },
    {
      "cell_type": "code",
      "source": [
        "from sklearn.model_selection import train_test_split\n",
        "\n",
        "# Train-test split\n",
        "X_train, X_test, y_train, y_test = train_test_split(X, y, test_size=0.2, random_state=42)\n",
        "\n",
        "# Normalize features\n",
        "X_train = (X_train - np.mean(X_train, axis=0)) / np.std(X_train, axis=0)\n",
        "X_test = (X_test - np.mean(X_test, axis=0)) / np.std(X_test, axis=0)\n",
        "\n"
      ],
      "metadata": {
        "id": "g2kMzjEtsajz"
      },
      "execution_count": 42,
      "outputs": []
    },
    {
      "cell_type": "markdown",
      "source": [
        "Softmax function:"
      ],
      "metadata": {
        "id": "dVET2bRpspXU"
      }
    },
    {
      "cell_type": "code",
      "source": [
        "def softmax(z):\n",
        "    max_z = np.max(z, axis=1).reshape(-1, 1)  # Reshape (n_samples,) to (n_samples, 1)\n",
        "    exp_z = np.exp(z - max_z)  # Subtract max for numerical stability\n",
        "    sum_exp_z = np.sum(exp_z, axis=1).reshape(-1, 1)  # Reshape for element-wise division\n",
        "    return exp_z / sum_exp_z  # Normalize\n"
      ],
      "metadata": {
        "id": "TSHHmU09ssNV"
      },
      "execution_count": 43,
      "outputs": []
    },
    {
      "cell_type": "markdown",
      "source": [
        "Cross entropy loss Function:\n"
      ],
      "metadata": {
        "id": "G1Db7KBDst5R"
      }
    },
    {
      "cell_type": "code",
      "source": [
        "import numpy as np\n",
        "\n",
        "def cross_entropy_loss(y_true, y_pred):\n",
        "    # Small value added to avoid log(0), which is undefined\n",
        "    epsilon = 1e-15\n",
        "    y_pred = np.clip(y_pred, epsilon, 1 - epsilon)  # Clip predictions to prevent log(0)\n",
        "\n",
        "    # Calculate the cross-entropy loss\n",
        "    loss = -np.mean(np.sum(y_true * np.log(y_pred), axis=1))  # Summing over class labels and averaging\n",
        "    return loss\n"
      ],
      "metadata": {
        "id": "ayThR5-VsxLj"
      },
      "execution_count": 44,
      "outputs": []
    },
    {
      "cell_type": "markdown",
      "source": [
        "Gradient descent"
      ],
      "metadata": {
        "id": "Szv2odUnsyz9"
      }
    },
    {
      "cell_type": "code",
      "source": [
        "def gradient_descent(X, y_onehot, w, b, learning_rate, n_iterations, tolerance=1e-5):\n",
        "    m = X.shape[0]\n",
        "    prev_loss = float('inf')\n",
        "    for i in range(n_iterations):\n",
        "        # Compute predictions\n",
        "        z = np.dot(X, w) + b\n",
        "        y_pred = softmax(z)\n",
        "\n",
        "        # Compute gradients\n",
        "        grad_w = np.dot(X.T, (y_pred - y_onehot)) / m\n",
        "        grad_b = np.sum(y_pred - y_onehot, axis=0) / m\n",
        "\n",
        "        # Update weights and bias\n",
        "        w -= learning_rate * grad_w\n",
        "        b -= learning_rate * grad_b\n",
        "\n",
        "        # Compute loss\n",
        "        loss = cross_entropy_loss(y_onehot, y_pred)\n",
        "        if abs(prev_loss - loss) < tolerance:\n",
        "            print(f\"Converged at iteration {i}: Loss = {loss:.4f}\")\n",
        "            break\n",
        "        prev_loss = loss\n",
        "\n",
        "        if i % 100 == 0 or i == n_iterations - 1:\n",
        "            print(f\"Iteration {i}: Loss = {loss:.4f}\")\n",
        "\n",
        "    return w, b\n"
      ],
      "metadata": {
        "id": "YDNPl4F1s3B1"
      },
      "execution_count": 45,
      "outputs": []
    },
    {
      "cell_type": "markdown",
      "source": [
        "Confusion matrix"
      ],
      "metadata": {
        "id": "TheOBt9LL8uU"
      }
    },
    {
      "cell_type": "code",
      "source": [
        "def confusion_matrix(y_true, y_pred, n_classes):\n",
        "    cm = np.zeros((n_classes, n_classes), dtype=int)\n",
        "    for true, pred in zip(y_true, y_pred):\n",
        "        cm[true, pred] += 1\n",
        "    return cm\n"
      ],
      "metadata": {
        "id": "0_Y9JtREL9e0"
      },
      "execution_count": 46,
      "outputs": []
    },
    {
      "cell_type": "markdown",
      "source": [
        "Precision"
      ],
      "metadata": {
        "id": "b1O7mrCyMGze"
      }
    },
    {
      "cell_type": "code",
      "source": [
        "import numpy as np\n",
        "\n",
        "def precision(conf_matrix):\n",
        "    # Extract true positives (diagonal elements)\n",
        "    TP = np.diag(conf_matrix)\n",
        "    # Extract false positives (sum of each column minus the diagonal)\n",
        "    FP = np.sum(conf_matrix, axis=0) - TP\n",
        "\n",
        "    # Avoid division by zero\n",
        "    precision_values = TP / (TP + FP)\n",
        "\n",
        "    return precision_values\n"
      ],
      "metadata": {
        "id": "Tt0csRNJMHLp"
      },
      "execution_count": 47,
      "outputs": []
    },
    {
      "cell_type": "markdown",
      "source": [
        "Recall"
      ],
      "metadata": {
        "id": "AsrxCOyGMPDt"
      }
    },
    {
      "cell_type": "code",
      "source": [
        "import numpy as np\n",
        "\n",
        "def recall(conf_matrix):\n",
        "    # Extract true positives (diagonal elements)\n",
        "    TP = np.diag(conf_matrix)\n",
        "    # Extract false negatives (sum of each row minus the diagonal)\n",
        "    FN = np.sum(conf_matrix, axis=1) - TP\n",
        "\n",
        "    # Avoid division by zero\n",
        "    recall_values = TP / (TP + FN)\n",
        "\n",
        "    return recall_values\n"
      ],
      "metadata": {
        "id": "UQt3QzJUMPU3"
      },
      "execution_count": 48,
      "outputs": []
    },
    {
      "cell_type": "markdown",
      "source": [
        "F1- Score"
      ],
      "metadata": {
        "id": "2Cs0edtDMUs3"
      }
    },
    {
      "cell_type": "code",
      "source": [
        "import numpy as np\n",
        "\n",
        "def f1_score(precision_values, recall_values):\n",
        "    # Calculate the F1 score for each class\n",
        "    f1_values = 2 * (precision_values * recall_values) / (precision_values + recall_values)\n",
        "\n",
        "    # Replace NaN values with 0 (for cases where precision + recall = 0)\n",
        "    f1_values = np.nan_to_num(f1_values)\n",
        "\n",
        "    return f1_values\n"
      ],
      "metadata": {
        "id": "8xaNDWvWMU_l"
      },
      "execution_count": 49,
      "outputs": []
    },
    {
      "cell_type": "markdown",
      "source": [
        "Training"
      ],
      "metadata": {
        "id": "kIUURYbCs4tL"
      }
    },
    {
      "cell_type": "code",
      "source": [
        "# One-hot encode y_train\n",
        "n_classes = len(np.unique(y_train))\n",
        "y_onehot = np.zeros((y_train.shape[0], n_classes))\n",
        "y_onehot[np.arange(y_train.shape[0]), y_train] = 1\n",
        "\n",
        "# Initialize weights and bias\n",
        "n_features = X_train.shape[1]\n",
        "w = np.random.randn(n_features, n_classes)\n",
        "b = np.zeros(n_classes)\n",
        "\n",
        "# Train model\n",
        "learning_rate = 0.1\n",
        "n_iterations = 1000\n",
        "w, b = gradient_descent(X_train, y_onehot, w, b, learning_rate, n_iterations)\n"
      ],
      "metadata": {
        "colab": {
          "base_uri": "https://localhost:8080/"
        },
        "id": "UNgzcIHJs8U2",
        "outputId": "3de6f725-70e4-495e-9c12-5f770c7f13ba"
      },
      "execution_count": 50,
      "outputs": [
        {
          "output_type": "stream",
          "name": "stdout",
          "text": [
            "Iteration 0: Loss = 1.0930\n",
            "Iteration 100: Loss = 0.4625\n",
            "Iteration 200: Loss = 0.4520\n",
            "Converged at iteration 268: Loss = 0.4507\n"
          ]
        }
      ]
    },
    {
      "cell_type": "markdown",
      "source": [
        "Predict and accuracy:"
      ],
      "metadata": {
        "id": "1FFASCQTI1Nu"
      }
    },
    {
      "cell_type": "code",
      "source": [
        "def predict(X, w, b):\n",
        "    z = np.dot(X, w) + b\n",
        "    y_prob = softmax(z)\n",
        "    return np.argmax(y_prob, axis=1)\n",
        "\n",
        "# Make predictions\n",
        "y_pred = predict(X_test, w, b)\n",
        "\n",
        "# Calculate accuracy\n",
        "accuracy = np.mean(y_pred == y_test)\n",
        "print(f\"Accuracy: {accuracy:.4f}\")\n",
        "\n",
        "# Compute confusion matrix\n",
        "cm = confusion_matrix(y_test, y_pred, n_classes)\n",
        "print(\"Confusion Matrix:\")\n",
        "print(cm)\n",
        "\n",
        "# Compute metrics for each class\n",
        "precision_score = precision(cm)\n",
        "recall_score = recall(cm)\n",
        "f1_score_value = f1_score(precision_score, recall_score)\n",
        "\n",
        "# Print the results\n",
        "print(f\"Precision: {precision_score}\")\n",
        "print(f\"Recall: {recall_score}\")\n",
        "print(f\"F1-Score: {f1_score_value}\")\n",
        "\n"
      ],
      "metadata": {
        "colab": {
          "base_uri": "https://localhost:8080/"
        },
        "id": "v14EcBfhI332",
        "outputId": "b43ee007-7af9-460c-e444-dd91861b509d"
      },
      "execution_count": 54,
      "outputs": [
        {
          "output_type": "stream",
          "name": "stdout",
          "text": [
            "Accuracy: 0.8045\n",
            "Confusion Matrix:\n",
            "[[93 12]\n",
            " [23 51]]\n",
            "Precision: [0.80172414 0.80952381]\n",
            "Recall: [0.88571429 0.68918919]\n",
            "F1-Score: [0.84162896 0.74452555]\n"
          ]
        }
      ]
    },
    {
      "cell_type": "markdown",
      "source": [
        "Visualization of confusion matrix"
      ],
      "metadata": {
        "id": "youdd3r1labU"
      }
    },
    {
      "cell_type": "code",
      "source": [
        "# Visualizing Confusion Matrix\n",
        "import matplotlib.pyplot as plt\n",
        "\n",
        "# Compute confusion matrix\n",
        "cm = confusion_matrix(y_test, y_pred, n_classes)\n",
        "\n",
        "# Create a figure and axis\n",
        "fig, ax = plt.subplots(figsize=(6, 6))\n",
        "\n",
        "# Display the confusion matrix as an image\n",
        "ax.imshow(cm, cmap='Blues')\n",
        "\n",
        "# Remove grid lines\n",
        "ax.grid(False)\n",
        "\n",
        "# Set x-axis tick labels\n",
        "ax.xaxis.set(ticks=(0, 1), ticklabels=('Predicted 0s', 'Predicted 1s'))\n",
        "\n",
        "# Set y-axis tick labels\n",
        "ax.yaxis.set(ticks=(0, 1), ticklabels=('Actual 0s', 'Actual 1s'))\n",
        "\n",
        "# Set y-axis limits\n",
        "ax.set_ylim(1.5, -0.5)\n",
        "\n",
        "# Display the values in the confusion matrix\n",
        "for i in range(2):\n",
        "    for j in range(2):\n",
        "        ax.text(j, i, cm[i, j], ha='center', va='center', color='white')\n",
        "\n",
        "# Show the plot\n",
        "plt.show()"
      ],
      "metadata": {
        "colab": {
          "base_uri": "https://localhost:8080/",
          "height": 522
        },
        "id": "VHWvpj86lart",
        "outputId": "680a77d9-4a3e-4b44-e581-d4808e6ee948"
      },
      "execution_count": 55,
      "outputs": [
        {
          "output_type": "display_data",
          "data": {
            "text/plain": [
              "<Figure size 600x600 with 1 Axes>"
            ],
            "image/png": "[encoded data removed]"
          },
          "metadata": {}
        }
      ]
    }
  ]
}