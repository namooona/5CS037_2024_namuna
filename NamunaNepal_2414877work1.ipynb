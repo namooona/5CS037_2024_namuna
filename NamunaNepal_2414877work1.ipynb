{
  "cells": [
    {
      "cell_type": "markdown",
      "metadata": {
        "id": "kBMIt4lVUl0c"
      },
      "source": [
        "Problem 1. Array Creation"
      ]
    },
    {
      "cell_type": "code",
      "execution_count": null,
      "metadata": {
        "colab": {
          "base_uri": "https://localhost:8080/"
        },
        "id": "aSl_1KxBUrCN",
        "outputId": "8a831f92-7076-4428-bbb5-2497f9db0cb4"
      },
      "outputs": [
        {
          "name": "stdout",
          "output_type": "stream",
          "text": [
            "Empty Array of 2X2:\n",
            " [[4.e-323 4.e-323]\n",
            " [4.e-323 4.e-323]]\n",
            "\n",
            "All Ones Array of (4X2):\n",
            " [[1. 1.]\n",
            " [1. 1.]\n",
            " [1. 1.]\n",
            " [1. 1.]]\n",
            "\n",
            "Array filled with value 8 (2x2):\n",
            " [[8 8]\n",
            " [8 8]]\n",
            "\n",
            "Zeros Array with same shape as given array:\n",
            " [[0 0]\n",
            " [0 0]]\n",
            "\n",
            "Ones Array with same shape as given array:\n",
            " [[1 1]\n",
            " [1 1]]\n",
            "\n",
            "Converted NumPy Array:\n",
            " [1 2 3 4]\n"
          ]
        }
      ],
      "source": [
        "import numpy as np\n",
        "\n",
        "# Initialize an empty array of size 2X2\n",
        "empty_array = np.empty((2, 2))\n",
        "print(\"Empty Array of 2X2:\\n\", empty_array)\n",
        "\n",
        "# Initialize an all-ones array of size 4x2\n",
        "ones_array = np.ones((4, 2))\n",
        "print(\"\\nAll Ones Array of (4X2):\\n\", ones_array)\n",
        "\n",
        "#Initialize a size 2x2 array of fill value\n",
        "fill_value = 8\n",
        "filled_array = np.full((2, 2), fill_value)\n",
        "print(\"\\nArray filled with value 8 (2x2):\\n\", filled_array)\n",
        "\n",
        "given_array = np.array([[1, 2,], [3, 4]])\n",
        "zeros_like_array = np.zeros_like(given_array)\n",
        "print(\"\\nZeros Array with same shape as given array:\\n\", zeros_like_array)\n",
        "\n",
        "ones_like_array = np.ones_like(given_array)\n",
        "print(\"\\nOnes Array with same shape as given array:\\n\", ones_like_array)\n",
        "\n",
        "#Converting list into array\n",
        "new_list = [1, 2, 3, 4]\n",
        "numpy_array = np.array(new_list)\n",
        "print(\"\\nConverted NumPy Array:\\n\", numpy_array)\n"
      ]
    },
    {
      "cell_type": "markdown",
      "metadata": {
        "id": "_dabJExka1qA"
      },
      "source": [
        "Problem 2. Array Manipulation"
      ]
    },
    {
      "cell_type": "code",
      "execution_count": null,
      "metadata": {
        "colab": {
          "base_uri": "https://localhost:8080/"
        },
        "id": "_RBVcUEka_UF",
        "outputId": "9e64f3bf-2e22-48ff-a1e6-588b2257ee4b"
      },
      "outputs": [
        {
          "name": "stdout",
          "output_type": "stream",
          "text": [
            "Array Range from 10 to 40:\n",
            " [10 11 12 13 14 15 16 17 18 19 20 21 22 23 24 25 26 27 28 29 30 31 32 33\n",
            " 34 35 36 37 38 39 40 41 42 43 44 45 46 47 48 49]\n",
            "\n",
            "3x3 Matrix with values from 0 to 8:\n",
            " [[0 1 2]\n",
            " [3 4 5]\n",
            " [6 7 8]]\n",
            "\n",
            "3x3 Identity Matrix:\n",
            " [[1. 0. 0.]\n",
            " [0. 1. 0.]\n",
            " [0. 0. 1.]]\n"
          ]
        }
      ],
      "source": [
        "import numpy as np\n",
        "\n",
        "#Initialize an array with value ranging from 10 to 49\n",
        "array_range= np.arange(10, 50)\n",
        "print(\"Array Range from 10 to 40:\\n\", array_range)\n",
        "\n",
        "#Initialize a 3x3 matrix value from 0 to 8\n",
        "matrix_3x3 = np.arange(9).reshape((3, 3))\n",
        "print(\"\\n3x3 Matrix with values from 0 to 8:\\n\", matrix_3x3)\n",
        "\n",
        "#Initialize a 3x3 identity matrix\n",
        "identity_matrix=np.eye(3)\n",
        "print(\"\\n3x3 Identity Matrix:\\n\", identity_matrix)\n",
        "\n",
        "random_array = np.random.random(30)\n",
        "mean_value = random_array.mean()\n",
        "print(\"\\nRandom Array of size 30:\\n\", random_array)\n",
        "print(\"Mean of the array:\", mean_value)\n",
        "\n"
      ]
    },
    {
      "cell_type": "markdown",
      "metadata": {
        "id": "R029PWzt77R9"
      },
      "source": [
        "Problem 3. Array Operations"
      ]
    },
    {
      "cell_type": "code",
      "execution_count": null,
      "metadata": {
        "colab": {
          "base_uri": "https://localhost:8080/"
        },
        "id": "irIXiqaf8Bh_",
        "outputId": "1f6207b2-a979-488a-aeaa-2b26edd4e8c1"
      },
      "outputs": [
        {
          "name": "stdout",
          "output_type": "stream",
          "text": [
            "1. Addition of x and y:\n",
            "[[ 6  8]\n",
            " [10 13]]\n",
            "\n",
            "2. Subtraction of x and y:\n",
            "[[-4 -4]\n",
            " [-4 -3]]\n",
            "\n",
            "3. Multiplication of v by 3:\n",
            "[18 20]\n",
            "\n",
            "4. Square of each element in array w:\n",
            "[121 144]\n",
            "Dot product of v and w: 219\n",
            "Dot product of x and v: [29 77]\n",
            "Dot product of x and y:\n",
            "[[19 22]\n",
            " [50 58]]\n",
            "Concatenate x and y along rows:\n",
            "[[1 2]\n",
            " [3 5]\n",
            " [5 6]\n",
            " [7 8]]\n",
            "Concatenate v and w along columns:\n",
            "[[ 9 10]\n",
            " [11 12]]\n",
            "\n",
            "7. Error when concatenating x and v along rows:\n",
            "all the input arrays must have same number of dimensions, but the array at index 0 has 2 dimension(s) and the array at index 1 has 1 dimension(s)\n"
          ]
        }
      ],
      "source": [
        "import numpy as np\n",
        "\n",
        "x = np.array([[1, 2], [3, 5]])\n",
        "y = np.array([[5, 6], [7, 8]])\n",
        "v = np.array([9, 10])\n",
        "w = np.array([11, 12])\n",
        "\n",
        "# Adding two arrays (x and y)\n",
        "array_addition = x + y\n",
        "print(\"1. Addition of x and y:\")\n",
        "print(array_addition)\n",
        "\n",
        "# Subtracting two arrays (x and y)\n",
        "array_subtraction = x - y\n",
        "print(\"\\n2. Subtraction of x and y:\")\n",
        "print(array_subtraction)\n",
        "\n",
        "# Multiplying the array v by an integer\n",
        "array_multiplication = v * 2\n",
        "print(\"\\n3. Multiplication of v by 3:\")\n",
        "print(array_multiplication)\n",
        "\n",
        "# Finding the square of each element in the array w\n",
        "array_square = np.square(w)\n",
        "print(\"\\n4. Square of each element in array w:\")\n",
        "print(array_square)\n",
        "\n",
        "# Finding the dot product between:\n",
        "dot_v_w = np.dot(v, w)\n",
        "print(f\"Dot product of v and w: {dot_v_w}\")\n",
        "\n",
        "dot_x_v = np.dot(x, v)\n",
        "print(f\"Dot product of x and v: {dot_x_v}\")\n",
        "\n",
        "dot_x_y = np.dot(x, y)\n",
        "print(f\"Dot product of x and y:\\n{dot_x_y}\")\n",
        "\n",
        "\n",
        "# Concatenate x and y along rows, and concatenate v and w along columns\n",
        "concat_x_y = np.concatenate((x, y), axis=0)  # Row-wise concatenation\n",
        "concat_v_w = np.vstack((v, w))  # Column-wise concatenation\n",
        "print(\"Concatenate x and y along rows:\")\n",
        "print(concat_x_y)\n",
        "print(\"Concatenate v and w along columns:\")\n",
        "print(concat_v_w)\n",
        "\n",
        "# Concatenate x and v; explain the error if any\n",
        "try:\n",
        "    concat_x_v = np.concatenate((x, v), axis=0)\n",
        "    print(\"\\n7. Concatenate x and v along rows:\")\n",
        "    print(concat_x_v)\n",
        "except ValueError as e:\n",
        "    print(\"\\n7. Error when concatenating x and v along rows:\")\n",
        "    print(e)\n"
      ]
    },
    {
      "cell_type": "markdown",
      "metadata": {
        "id": "kZ6xwyoNADxC"
      },
      "source": [
        "Problem 4. Matrix Operation"
      ]
    },
    {
      "cell_type": "code",
      "execution_count": null,
      "metadata": {
        "id": "hULuFowQAPwL",
        "colab": {
          "base_uri": "https://localhost:8080/"
        },
        "outputId": "9003aa92-1012-41cd-f129-22ac6086c9ba"
      },
      "outputs": [
        {
          "output_type": "stream",
          "name": "stdout",
          "text": [
            "1. Prove A * A^(-1) = I:\n",
            "[[1.00000000e+00 0.00000000e+00]\n",
            " [1.77635684e-15 1.00000000e+00]]\n",
            "\n",
            "2. Prove AB ≠ BA:\n",
            "AB =\n",
            "[[23 13]\n",
            " [51 29]]\n",
            "BA =\n",
            "[[36 44]\n",
            " [13 16]]\n",
            "Are AB and BA equal?  False\n",
            "\n",
            "3. Prove (AB)^T = B^T * A^T:\n",
            "(AB)^T =\n",
            "[[23 51]\n",
            " [13 29]]\n",
            "B^T * A^T =\n",
            "[[23 51]\n",
            " [13 29]]\n",
            "Are (AB)^T and B^T * A^T equal?  True\n"
          ]
        }
      ],
      "source": [
        "import numpy as np\n",
        "\n",
        "# Define the matrices A and B\n",
        "A = np.array([[3, 4], [7, 8]])\n",
        "B = np.array([[5, 3], [2, 1]])\n",
        "\n",
        "# 1. Prove that A * A^(-1) = I (Identity Matrix)\n",
        "A_inv = np.linalg.inv(A)  # Calculate the inverse of A\n",
        "identity_matrix = np.dot(A, A_inv)  # Multiply A with its inverse\n",
        "print(\"1. Prove A * A^(-1) = I:\")\n",
        "print(identity_matrix)\n",
        "\n",
        "# 2. Prove that AB ≠ BA\n",
        "AB = np.dot(A, B)  # Multiply A and B\n",
        "BA = np.dot(B, A)  # Multiply B and A\n",
        "print(\"\\n2. Prove AB ≠ BA:\")\n",
        "print(\"AB =\")\n",
        "print(AB)\n",
        "print(\"BA =\")\n",
        "print(BA)\n",
        "print(\"Are AB and BA equal? \", np.array_equal(AB, BA))\n",
        "\n",
        "# 3. Prove (AB)^T = B^T * A^T\n",
        "AB_transpose = np.transpose(AB)  # Transpose of AB\n",
        "B_transpose = np.transpose(B)\n",
        "A_transpose = np.transpose(A)\n",
        "BT_AT = np.dot(B_transpose, A_transpose)  # B^T * A^T\n",
        "print(\"\\n3. Prove (AB)^T = B^T * A^T:\")\n",
        "print(\"(AB)^T =\")\n",
        "print(AB_transpose)\n",
        "print(\"B^T * A^T =\")\n",
        "print(BT_AT)\n",
        "print(\"Are (AB)^T and B^T * A^T equal? \", np.array_equal(AB_transpose, BT_AT))\n",
        "\n",
        "\n"
      ]
    },
    {
      "cell_type": "markdown",
      "metadata": {
        "id": "3YPF6TpxAkhj"
      },
      "source": [
        "Now: solve the above equation using np.linalg.inv function.{Explore more about ”linalg” function\n",
        "of Numpy}"
      ]
    },
    {
      "cell_type": "code",
      "execution_count": 3,
      "metadata": {
        "id": "lvXSswW6Ak-Z",
        "outputId": "3b89ce58-fa5f-4005-8f55-6415650dd7f9",
        "colab": {
          "base_uri": "https://localhost:8080/"
        }
      },
      "outputs": [
        {
          "output_type": "stream",
          "name": "stdout",
          "text": [
            "\n",
            "Solution to the system of equations using the inverse method:\n",
            "X (values of x, y, z) =\n",
            "[ 2.  1. -2.]\n"
          ]
        }
      ],
      "source": [
        "import numpy as np\n",
        "A = np.array([[2, -3, 1], [1, -1, 2], [3, 1, -1]])  # Coefficients matrix\n",
        "B = np.array([-1, -3, 9])  # Constants matrix\n",
        "\n",
        "# Solve for X using the inverse method\n",
        "A_inv = np.linalg.inv(A)  # Inverse of A\n",
        "X = np.dot(A_inv, B)\n",
        "print(\"\\nSolution to the system of equations using the inverse method:\")\n",
        "print(\"X (values of x, y, z) =\")\n",
        "print(X)\n"
      ]
    },
    {
      "cell_type": "markdown",
      "metadata": {
        "id": "cFEwwFrMA_AK"
      },
      "source": [
        "1. Element-wise Addition:\n",
        "• Using Python Lists, perform element-wise addition of two lists of size 1, 000, 000. Measure\n",
        "and Print the time taken for this operation.\n",
        "• Using Numpy Arrays, Repeat the calculation and measure and print the time taken for this\n",
        "operation.\n",
        "2. Element-wise Multiplication\n",
        "\n",
        "• Using Python Lists, perform element-wise multiplication of two lists of size 1, 000, 000. Mea-\n",
        "sure and Print the time taken for this operation.\n",
        "\n",
        "• Using Numpy Arrays, Repeat the calculation and measure and print the time taken for this\n",
        "operation.\n",
        "3. Dot Product\n",
        "• Using Python Lists, compute the dot product of two lists of size 1, 000, 000. Measure and\n",
        "Print the time taken for this operation.\n",
        "• Using Numpy Arrays, Repeat the calculation and measure and print the time taken for this\n",
        "operation.\n",
        "4. Matrix Multiplication\n",
        "• Using Python lists, perform matrix multiplication of two matrices of size 1000x1000. Measure\n",
        "and print the time taken for this operation.\n",
        "\n",
        "• Using NumPy arrays, perform matrix multiplication of two matrices of size 1000x1000. Mea-\n",
        "sure and print the time taken for this operation."
      ]
    },
    {
      "cell_type": "code",
      "execution_count": null,
      "metadata": {
        "colab": {
          "base_uri": "https://localhost:8080/"
        },
        "id": "UhTm1hz0A_9Q",
        "outputId": "d66711be-5af3-4dec-aa9e-d10e0fb76712"
      },
      "outputs": [
        {
          "output_type": "stream",
          "name": "stdout",
          "text": [
            "Element-wise Addition with Python Lists: 0.1373 seconds\n",
            "Element-wise Addition with NumPy Arrays: 0.0055 seconds\n",
            "Element-wise Multiplication with Python Lists: 0.1318 seconds\n",
            "Element-wise Multiplication with NumPy Arrays: 0.0054 seconds\n",
            "Dot Product with Python Lists: 0.1470 seconds\n",
            "Dot Product with NumPy Arrays: 0.0017 seconds\n",
            "Matrix Multiplication with Python Lists: 247.3337 seconds\n",
            "Matrix Multiplication with NumPy Arrays: 1.8948 seconds\n"
          ]
        }
      ],
      "source": [
        "import time\n",
        "import numpy as np\n",
        "\n",
        "# Element-wise Addition\n",
        "def element_wise_addition():\n",
        "    size = 1_000_000\n",
        "    list1 = [i for i in range(size)]\n",
        "    list2 = [i for i in range(size)]\n",
        "    array1 = np.arange(size)\n",
        "    array2 = np.arange(size)\n",
        "\n",
        "    # Using Python Lists\n",
        "    start_time = time.time()\n",
        "    list_result = [list1[i] + list2[i] for i in range(size)]\n",
        "    list_time = time.time() - start_time\n",
        "    print(f\"Element-wise Addition with Python Lists: {list_time:.4f} seconds\")\n",
        "\n",
        "    # Using NumPy Arrays\n",
        "    start_time = time.time()\n",
        "    array_result = array1 + array2\n",
        "    numpy_time = time.time() - start_time\n",
        "    print(f\"Element-wise Addition with NumPy Arrays: {numpy_time:.4f} seconds\")\n",
        "\n",
        "# Element-wise Multiplication\n",
        "def element_wise_multiplication():\n",
        "    size = 1_000_000\n",
        "    list1 = [i for i in range(size)]\n",
        "    list2 = [i for i in range(size)]\n",
        "    array1 = np.arange(size)\n",
        "    array2 = np.arange(size)\n",
        "\n",
        "    # Using Python Lists\n",
        "    start_time = time.time()\n",
        "    list_result = [list1[i] * list2[i] for i in range(size)]\n",
        "    list_time = time.time() - start_time\n",
        "    print(f\"Element-wise Multiplication with Python Lists: {list_time:.4f} seconds\")\n",
        "\n",
        "    # Using NumPy Arrays\n",
        "    start_time = time.time()\n",
        "    array_result = array1 * array2\n",
        "    numpy_time = time.time() - start_time\n",
        "    print(f\"Element-wise Multiplication with NumPy Arrays: {numpy_time:.4f} seconds\")\n",
        "\n",
        "# Dot Product\n",
        "def dot_product():\n",
        "    size = 1_000_000\n",
        "    list1 = [i for i in range(size)]\n",
        "    list2 = [i for i in range(size)]\n",
        "    array1 = np.arange(size)\n",
        "    array2 = np.arange(size)\n",
        "\n",
        "    # Using Python Lists\n",
        "    start_time = time.time()\n",
        "    dot_product = sum(list1[i] * list2[i] for i in range(size))\n",
        "    list_time = time.time() - start_time\n",
        "    print(f\"Dot Product with Python Lists: {list_time:.4f} seconds\")\n",
        "\n",
        "    # Using NumPy Arrays\n",
        "    start_time = time.time()\n",
        "    dot_product = np.dot(array1, array2)\n",
        "    numpy_time = time.time() - start_time\n",
        "    print(f\"Dot Product with NumPy Arrays: {numpy_time:.4f} seconds\")\n",
        "\n",
        "# Matrix Multiplication\n",
        "def matrix_multiplication():\n",
        "    size = 1000\n",
        "    matrix1 = [[i for i in range(size)] for _ in range(size)]\n",
        "    matrix2 = [[i for i in range(size)] for _ in range(size)]\n",
        "    np_matrix1 = np.array(matrix1)\n",
        "    np_matrix2 = np.array(matrix2)\n",
        "\n",
        "    # Using Python Lists\n",
        "    start_time = time.time()\n",
        "    result = [[sum(matrix1[i][k] * matrix2[k][j] for k in range(size)) for j in range(size)] for i in range(size)]\n",
        "    list_time = time.time() - start_time\n",
        "    print(f\"Matrix Multiplication with Python Lists: {list_time:.4f} seconds\")\n",
        "\n",
        "    # Using NumPy Arrays\n",
        "    start_time = time.time()\n",
        "    result = np.dot(np_matrix1, np_matrix2)\n",
        "    numpy_time = time.time() - start_time\n",
        "    print(f\"Matrix Multiplication with NumPy Arrays: {numpy_time:.4f} seconds\")\n",
        "\n",
        "# Run the experiments\n",
        "element_wise_addition()\n",
        "element_wise_multiplication()\n",
        "dot_product()\n",
        "matrix_multiplication()\n"
      ]
    }
  ],
  "metadata": {
    "colab": {
      "provenance": []
    },
    "kernelspec": {
      "display_name": "Python 3",
      "name": "python3"
    },
    "language_info": {
      "name": "python"
    }
  },
  "nbformat": 4,
  "nbformat_minor": 0
}